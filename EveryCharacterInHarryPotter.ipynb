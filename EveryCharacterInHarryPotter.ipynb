{
  "nbformat": 4,
  "nbformat_minor": 0,
  "metadata": {
    "colab": {
      "name": "EveryCharacterInHarryPotter.ipynb",
      "provenance": [],
      "authorship_tag": "ABX9TyN+/tlDsew8F4gLC/XNZaOE",
      "include_colab_link": true
    },
    "kernelspec": {
      "name": "python3",
      "display_name": "Python 3"
    }
  },
  "cells": [
    {
      "cell_type": "markdown",
      "metadata": {
        "id": "view-in-github",
        "colab_type": "text"
      },
      "source": [
        "<a href=\"https://colab.research.google.com/github/GregSym/EveryCharacterInHarryPotter/blob/main/EveryCharacterInHarryPotter.ipynb\" target=\"_parent\"><img src=\"https://colab.research.google.com/assets/colab-badge.svg\" alt=\"Open In Colab\"/></a>"
      ]
    },
    {
      "cell_type": "markdown",
      "metadata": {
        "id": "pJqV7Sg5oZuv"
      },
      "source": [
        "<h1>So, in case anyone ever wants to know exactly how many characters are in the Harry Potter books, this is the number according to Wikipedia</h1>\n",
        "\n",
        "<li>To be clear, I am in fact claiming this is 100% accurate and that you should definitely trust me on this</li>\n",
        "<li>Wouldn't it be better to somehow get a hold of the raw text of every Harry Potter book and scan that for references to characters in the story using some sort of NN trained on out-of-copyright fiction to recognise what constitutes a character in English fiction novels? No, my method is better than that, but you are welcome to try anyway.</li>\n",
        "<li>Did I make this to confess my love for known TERFs? No, I made this because I wanted to know, for certain, how many characters are in the Harry Potter books, excluding the script treatments of various related works.</li>\n",
        "<li>You should know, I am bad at both code and documentation, which is why none of the above points are helpful or completely true</li>"
      ]
    },
    {
      "cell_type": "code",
      "metadata": {
        "id": "zRVx9sOeXd2x"
      },
      "source": [
        "import requests\n",
        "from bs4 import BeautifulSoup"
      ],
      "execution_count": null,
      "outputs": []
    },
    {
      "cell_type": "markdown",
      "metadata": {
        "id": "uy0ZFnhbX7gP"
      },
      "source": [
        "Get the url"
      ]
    },
    {
      "cell_type": "code",
      "metadata": {
        "id": "1TwMP5VZXzR2"
      },
      "source": [
        "url = \"https://en.wikipedia.org/wiki/List_of_Harry_Potter_characters#Characters_by_surname\""
      ],
      "execution_count": null,
      "outputs": []
    },
    {
      "cell_type": "markdown",
      "metadata": {
        "id": "nMyAkRPvYdcH"
      },
      "source": [
        "Make a soup"
      ]
    },
    {
      "cell_type": "code",
      "metadata": {
        "id": "oDrqL-dIX_NP"
      },
      "source": [
        "response = requests.get(url=url)\n",
        "soup = BeautifulSoup(response.text, 'html.parser')"
      ],
      "execution_count": null,
      "outputs": []
    },
    {
      "cell_type": "markdown",
      "metadata": {
        "id": "n6vx6KkMZhJo"
      },
      "source": [
        "Find all elements in named character list\n"
      ]
    },
    {
      "cell_type": "code",
      "metadata": {
        "colab": {
          "base_uri": "https://localhost:8080/"
        },
        "id": "OlZYm1kGYe1i",
        "outputId": "e56f92e8-d5a0-40b2-f0ab-f237c32a1605"
      },
      "source": [
        "results = soup.find_all('div', {\"class\":\"mw-content-text\", \"lang\":\"en\", \"dir\":\"ltr\", \"class\":\"mw-content-ltr\"})\n",
        "results[0].find_all('ul')[4] # the location where named character list begins"
      ],
      "execution_count": null,
      "outputs": [
        {
          "output_type": "execute_result",
          "data": {
            "text/plain": [
              "<ul><li><a class=\"mw-redirect\" href=\"/wiki/Hannah_Abbott\" title=\"Hannah Abbott\">Hannah Abbott</a> – <a class=\"mw-redirect\" href=\"/wiki/Hufflepuff\" title=\"Hufflepuff\">Hufflepuff</a> student in <a href=\"/wiki/Harry_Potter_(character)\" title=\"Harry Potter (character)\">Harry Potter</a>'s year. Prefect and member of <a href=\"/wiki/Dumbledore%27s_Army\" title=\"Dumbledore's Army\">Dumbledore's Army</a>. Married to <a href=\"/wiki/Neville_Longbottom\" title=\"Neville Longbottom\">Neville Longbottom</a>.</li></ul>"
            ]
          },
          "metadata": {
            "tags": []
          },
          "execution_count": 44
        }
      ]
    },
    {
      "cell_type": "code",
      "metadata": {
        "colab": {
          "base_uri": "https://localhost:8080/"
        },
        "id": "RZgvS5j-Zt40",
        "outputId": "76074ccf-0d48-4738-96ff-1abfffe23a7d"
      },
      "source": [
        "list_of_names = []\n",
        "for list_section in results[0].find_all('ul')[4].find_all('li'):\n",
        "  print(list_section)\n",
        "  list_of_names.append(list_section)"
      ],
      "execution_count": null,
      "outputs": [
        {
          "output_type": "stream",
          "text": [
            "<li><a class=\"mw-redirect\" href=\"/wiki/Hannah_Abbott\" title=\"Hannah Abbott\">Hannah Abbott</a> – <a class=\"mw-redirect\" href=\"/wiki/Hufflepuff\" title=\"Hufflepuff\">Hufflepuff</a> student in <a href=\"/wiki/Harry_Potter_(character)\" title=\"Harry Potter (character)\">Harry Potter</a>'s year. Prefect and member of <a href=\"/wiki/Dumbledore%27s_Army\" title=\"Dumbledore's Army\">Dumbledore's Army</a>. Married to <a href=\"/wiki/Neville_Longbottom\" title=\"Neville Longbottom\">Neville Longbottom</a>.</li>\n"
          ],
          "name": "stdout"
        }
      ]
    },
    {
      "cell_type": "markdown",
      "metadata": {
        "id": "jCRSLZhGiXaf"
      },
      "source": [
        "now repeat for the next 23 letters in the alphabet (by letters I do mean sections of the character list, currently that means the alphabet)"
      ]
    },
    {
      "cell_type": "code",
      "metadata": {
        "colab": {
          "base_uri": "https://localhost:8080/"
        },
        "id": "bTg9sgXkd-xZ",
        "outputId": "b42e1fed-999a-4aa2-9caf-1d29069452f2"
      },
      "source": [
        "for i in range(5, 28):\n",
        "  for list_section in results[0].find_all('ul')[i].find_all('li'):\n",
        "    print(list_section)\n",
        "    list_of_names.append(list_section)"
      ],
      "execution_count": null,
      "outputs": [
        {
          "output_type": "stream",
          "text": [
            "<li><a class=\"mw-redirect\" href=\"/wiki/Ludo_Bagman\" title=\"Ludo Bagman\">Ludo Bagman</a> – Head of the <a class=\"mw-redirect\" href=\"/wiki/Department_of_Magical_Games_and_Sports\" title=\"Department of Magical Games and Sports\">Department of Magical Games and Sports</a> within the <a href=\"/wiki/Ministry_of_Magic\" title=\"Ministry of Magic\">Ministry of Magic</a>.</li>\n",
            "<li><a class=\"mw-redirect\" href=\"/wiki/Bathilda_Bagshot\" title=\"Bathilda Bagshot\">Bathilda Bagshot</a> – Author of <i>A History of Magic</i>, and the great aunt of <a class=\"mw-redirect\" href=\"/wiki/Gellert_Grindelwald\" title=\"Gellert Grindelwald\">Gellert Grindelwald</a>.</li>\n",
            "<li><a href=\"/wiki/Dumbledore%27s_Army#Katie_Bell\" title=\"Dumbledore's Army\">Katie Bell</a> – <a class=\"mw-redirect\" href=\"/wiki/Gryffindor\" title=\"Gryffindor\">Gryffindor</a> <a href=\"/wiki/Quidditch\" title=\"Quidditch\">Quidditch</a> Chaser one year above Harry Potter. Member of <a href=\"/wiki/Dumbledore%27s_Army\" title=\"Dumbledore's Army\">Dumbledore's Army</a>.</li>\n",
            "<li><a class=\"mw-redirect\" href=\"/wiki/Cuthbert_Binns\" title=\"Cuthbert Binns\">Cuthbert Binns</a> – ghost, History of Magic professor.</li>\n",
            "<li><a class=\"mw-redirect\" href=\"/wiki/Phineas_Nigellus_Black\" title=\"Phineas Nigellus Black\">Phineas Nigellus Black</a> – Great-great-grandfather of Sirius Black and former <a href=\"/wiki/Hogwarts\" title=\"Hogwarts\">Hogwarts</a> headmaster. His painting hangs in the office and assists the current headmaster.</li>\n",
            "<li><a href=\"/wiki/Sirius_Black\" title=\"Sirius Black\">Sirius Black</a> – Harry's godfather who was a close friend of Harry's father James. Escapee from <a class=\"mw-redirect\" href=\"/wiki/Azkaban\" title=\"Azkaban\">Azkaban</a> prison and member of the <a href=\"/wiki/Order_of_the_Phoenix_(fictional_organisation)\" title=\"Order of the Phoenix (fictional organisation)\">Order of the Phoenix</a>. Killed in the Battle of the Department of Mysteries by his cousin <a href=\"/wiki/Bellatrix_Lestrange\" title=\"Bellatrix Lestrange\">Bellatrix Lestrange</a>.</li>\n",
            "<li><a class=\"mw-redirect\" href=\"/wiki/Amelia_Bones\" title=\"Amelia Bones\">Amelia Bones</a> – Head of the <a class=\"mw-redirect\" href=\"/wiki/Department_of_Magical_Law_Enforcement\" title=\"Department of Magical Law Enforcement\">Department of Magical Law Enforcement</a>, and the aunt of Susan Bones. Killed by <a href=\"/wiki/Lord_Voldemort\" title=\"Lord Voldemort\">Lord Voldemort</a>.</li>\n",
            "<li><a class=\"mw-redirect\" href=\"/wiki/Susan_Bones\" title=\"Susan Bones\">Susan Bones</a> – Hufflepuff student in Harry's year. Member of Dumbledore's Army.</li>\n",
            "<li><a href=\"/wiki/Dumbledore%27s_Army#Terry_Boot\" title=\"Dumbledore's Army\">Terry Boot</a> – <a class=\"mw-redirect\" href=\"/wiki/Ravenclaw\" title=\"Ravenclaw\">Ravenclaw</a> student in Harry's year. Member of Dumbledore's Army.</li>\n",
            "<li><a href=\"/wiki/Dumbledore%27s_Army#Lavender_Brown\" title=\"Dumbledore's Army\">Lavender Brown</a> – Gryffindor student in Harry's year and member of Dumbledore's Army. Killed in the <a class=\"mw-redirect\" href=\"/wiki/Battle_of_Hogwarts\" title=\"Battle of Hogwarts\">Battle of Hogwarts</a>.</li>\n",
            "<li>Millicent Bulstrode – <a class=\"mw-redirect\" href=\"/wiki/Slytherin\" title=\"Slytherin\">Slytherin</a> student in Harry's year. Member of <a href=\"/wiki/Dolores_Umbridge\" title=\"Dolores Umbridge\">Dolores Umbridge</a>'s Inquisitorial Squad.</li>\n",
            "<li><a class=\"mw-redirect\" href=\"/wiki/Charity_Burbage\" title=\"Charity Burbage\">Charity Burbage</a> – Professor of <a class=\"mw-redirect\" href=\"/wiki/Muggle_Studies\" title=\"Muggle Studies\">Muggle Studies</a> at Hogwarts. Killed by Lord Voldemort.</li>\n",
            "<li><a class=\"mw-redirect\" href=\"/wiki/Frank_Bryce\" title=\"Frank Bryce\">Frank Bryce</a> – <a href=\"/wiki/Muggle\" title=\"Muggle\">Muggle</a> gardener for the <a class=\"mw-redirect\" href=\"/wiki/Riddle_family\" title=\"Riddle family\">Riddle family</a>. Killed by Lord Voldemort.</li>\n",
            "<li><a class=\"mw-redirect\" href=\"/wiki/Alecto_Carrow\" title=\"Alecto Carrow\">Alecto Carrow</a> – <a href=\"/wiki/Death_Eater\" title=\"Death Eater\">Death Eater</a> and sister of Amycus Carrow. Professor of Muggle Studies for one year, and Deputy Headmistress of <a href=\"/wiki/Hogwarts\" title=\"Hogwarts\">Hogwarts</a> under <a href=\"/wiki/Severus_Snape\" title=\"Severus Snape\">Severus Snape</a>.</li>\n",
            "<li><a class=\"mw-redirect\" href=\"/wiki/Amycus_Carrow\" title=\"Amycus Carrow\">Amycus Carrow</a> – Death Eater and brother of Alecto Carrow. Professor of <a class=\"mw-redirect\" href=\"/wiki/Defence_Against_the_Dark_Arts\" title=\"Defence Against the Dark Arts\">Defence Against the Dark Arts</a> for one year, and Deputy Headmaster of Hogwarts under Snape.</li>\n",
            "<li><a class=\"mw-redirect\" href=\"/wiki/Reginald_Cattermole\" title=\"Reginald Cattermole\">Reginald Cattermole</a> – Employee of the Magical Maintenance Department for the <a href=\"/wiki/Ministry_of_Magic\" title=\"Ministry of Magic\">Ministry of Magic</a>. Impersonated by <a href=\"/wiki/Ron_Weasley\" title=\"Ron Weasley\">Ron Weasley</a>.</li>\n",
            "<li><a class=\"mw-redirect\" href=\"/wiki/Cho_Chang\" title=\"Cho Chang\">Cho Chang</a> – <a class=\"mw-redirect\" href=\"/wiki/Ravenclaw\" title=\"Ravenclaw\">Ravenclaw</a> <a href=\"/wiki/Quidditch\" title=\"Quidditch\">Quidditch</a> Seeker one year above Harry, and his first love interest. Member of <a href=\"/wiki/Dumbledore%27s_Army\" title=\"Dumbledore's Army\">Dumbledore's Army</a>.</li>\n",
            "<li>Penelope Clearwater – Ravenclaw prefect and girlfriend of <a class=\"mw-redirect\" href=\"/wiki/Percy_Weasley\" title=\"Percy Weasley\">Percy Weasley</a>.</li>\n",
            "<li><a href=\"/wiki/Death_Eater#Death_Eaters_and_their_crimes\" title=\"Death Eater\">Crabbe</a> – <a href=\"/wiki/Death_Eater\" title=\"Death Eater\">Death Eater</a> and father of Vincent Crabbe.</li>\n",
            "<li><a class=\"mw-redirect\" href=\"/wiki/Vincent_Crabbe\" title=\"Vincent Crabbe\">Vincent Crabbe</a> – <a class=\"mw-redirect\" href=\"/wiki/Slytherin\" title=\"Slytherin\">Slytherin</a> student in Harry's year and the son of a Death Eater. Slytherin Quidditch Beater and member of the <a class=\"mw-redirect\" href=\"/wiki/Inquisitorial_Squad\" title=\"Inquisitorial Squad\">Inquisitorial Squad</a>. Killed by his own Fiendfyre spell.</li>\n",
            "<li><a class=\"mw-redirect\" href=\"/wiki/Colin_Creevey\" title=\"Colin Creevey\">Colin Creevey</a> – Muggle-born <a class=\"mw-redirect\" href=\"/wiki/Gryffindor\" title=\"Gryffindor\">Gryffindor</a> student one year below Harry. Older brother of Dennis Creevey, and member of <a href=\"/wiki/Dumbledore%27s_Army\" title=\"Dumbledore's Army\">Dumbledore's Army</a>. Killed during the Battle of Hogwarts.</li>\n",
            "<li><a class=\"mw-redirect\" href=\"/wiki/Dennis_Creevey\" title=\"Dennis Creevey\">Dennis Creevey</a> – Muggle-born Gryffindor student three years below Harry. Younger brother of Colin Creevey, and member of <a href=\"/wiki/Dumbledore%27s_Army\" title=\"Dumbledore's Army\">Dumbledore's Army</a>.</li>\n",
            "<li><a class=\"mw-redirect\" href=\"/wiki/Dirk_Cresswell\" title=\"Dirk Cresswell\">Dirk Cresswell</a> – Muggle-born Head of the <a class=\"mw-redirect\" href=\"/wiki/Goblin_Liaison_Office\" title=\"Goblin Liaison Office\">Goblin Liaison Office</a>, went on the run with fellow Muggle-borns <a class=\"mw-redirect\" href=\"/wiki/Ted_Tonks\" title=\"Ted Tonks\">Ted Tonks</a>, <a class=\"mw-redirect\" href=\"/wiki/Dean_Thomas_(Harry_Potter)\" title=\"Dean Thomas (Harry Potter)\">Dean Thomas</a> and goblins Gornuk and <a class=\"mw-redirect\" href=\"/wiki/Griphook\" title=\"Griphook\">Griphook</a>, during which he is killed.</li>\n",
            "<li><a class=\"mw-redirect\" href=\"/wiki/Barty_Crouch_Sr\" title=\"Barty Crouch Sr\">Barty Crouch Sr</a> – Head of the <a class=\"mw-redirect\" href=\"/wiki/Department_of_International_Magical_Cooperation\" title=\"Department of International Magical Cooperation\">Department of International Magical Cooperation</a>. Killed by his son Barty Crouch Jr.</li>\n",
            "<li><a class=\"mw-redirect\" href=\"/wiki/Barty_Crouch_Jr\" title=\"Barty Crouch Jr\">Barty Crouch Jr</a> – Death Eater credited with facilitating the return of Lord Voldemort. Used <a class=\"mw-redirect\" href=\"/wiki/Polyjuice_Potion\" title=\"Polyjuice Potion\">Polyjuice Potion</a> to impersonate <a class=\"mw-redirect\" href=\"/wiki/Alastor_Moody\" title=\"Alastor Moody\">Alastor Moody</a>, and received a <a class=\"mw-redirect\" href=\"/wiki/Dementor%27s_Kiss\" title=\"Dementor's Kiss\">Dementor's Kiss</a>.</li>\n",
            "<li><a href=\"/wiki/Ministry_of_Magic#John_Dawlish\" title=\"Ministry of Magic\">John Dawlish</a> – an <a class=\"mw-redirect\" href=\"/wiki/Auror\" title=\"Auror\">Auror</a>.</li>\n",
            "<li><a class=\"mw-redirect\" href=\"/wiki/Fleur_Delacour\" title=\"Fleur Delacour\">Fleur Delacour</a> – Participant in the <a class=\"mw-redirect\" href=\"/wiki/Triwizard_Tournament\" title=\"Triwizard Tournament\">Triwizard Tournament</a> as a representative of wizarding school <a href=\"/wiki/Beauxbatons\" title=\"Beauxbatons\">Beauxbatons</a>. Later married <a class=\"mw-redirect\" href=\"/wiki/Bill_Weasley\" title=\"Bill Weasley\">Bill Weasley</a>.</li>\n",
            "<li><a class=\"mw-redirect\" href=\"/wiki/Gabrielle_Delacour\" title=\"Gabrielle Delacour\">Gabrielle Delacour</a> – Fleur's younger sister. Rescued by Harry during the Triwizard Tournament.</li>\n",
            "<li><a class=\"mw-redirect\" href=\"/wiki/Dedalus_Diggle\" title=\"Dedalus Diggle\">Dedalus Diggle</a> – Member of the <a class=\"mw-redirect\" href=\"/wiki/Order_of_the_Phoenix_(fictional_organization)\" title=\"Order of the Phoenix (fictional organization)\">Order of the Phoenix</a> who took the Dursleys into hiding.</li>\n",
            "<li><a href=\"/wiki/Ministry_of_Magic#Others\" title=\"Ministry of Magic\">Amos Diggory</a> – Cedric Diggory's father. Employee of the Department for the Regulation and Control of Magical Creatures.</li>\n",
            "<li><a href=\"/wiki/Cedric_Diggory\" title=\"Cedric Diggory\">Cedric Diggory</a> – <a class=\"mw-redirect\" href=\"/wiki/Hufflepuff\" title=\"Hufflepuff\">Hufflepuff</a> student and prefect two years above Harry. Quidditch Seeker and captain, and co-winner of the Triwizard Tournament. Killed by Peter Pettigrew on Lord Voldemort's command.</li>\n",
            "<li><a class=\"mw-redirect\" href=\"/wiki/Elphias_Doge\" title=\"Elphias Doge\">Elphias Doge</a> – A school friend of Albus Dumbledore.</li>\n",
            "<li><a class=\"mw-redirect\" href=\"/wiki/Antonin_Dolohov\" title=\"Antonin Dolohov\">Antonin Dolohov</a> – Death Eater who killed <a class=\"mw-redirect\" href=\"/wiki/Fabian_Prewett\" title=\"Fabian Prewett\">Fabian Prewett</a>, <a class=\"mw-redirect\" href=\"/wiki/Gideon_Prewett\" title=\"Gideon Prewett\">Gideon Prewett</a>, and <a href=\"/wiki/Remus_Lupin\" title=\"Remus Lupin\">Remus Lupin</a>.</li>\n",
            "<li><a class=\"mw-redirect\" href=\"/wiki/Aberforth_Dumbledore\" title=\"Aberforth Dumbledore\">Aberforth Dumbledore</a> – Brother of Albus and Ariana Dumbledore. Owner of the <a class=\"mw-redirect\" href=\"/wiki/Hog%27s_Head\" title=\"Hog's Head\">Hog's Head</a> tavern.</li>\n",
            "<li><a href=\"/wiki/Albus_Dumbledore\" title=\"Albus Dumbledore\">Albus Dumbledore</a> – Transfiguration professor in Tom Riddle's time, and Hogwarts headmaster in Harry Potter's time. Founder of the Order of the Phoenix. Killed by Severus Snape on Dumbledore's request.</li>\n",
            "<li><a class=\"mw-redirect\" href=\"/wiki/Ariana_Dumbledore\" title=\"Ariana Dumbledore\">Ariana Dumbledore</a> – Sister of Albus and Aberforth Dumbledore, killed in a three-way duel between her brothers and Gellert Grindelwald.</li>\n",
            "<li>Kendra Dumbledore – Wife of Percival Dumbledore. Mother of Albus, Aberforth, and Ariana Dumbledore.</li>\n",
            "<li>Percival Dumbledore – Husband of Kendra Dumbledore, father of Albus, Aberforth, and Ariana Dumbledore.</li>\n",
            "<li><a href=\"/wiki/List_of_supporting_Harry_Potter_characters#Dudley_Dursley\" title=\"List of supporting Harry Potter characters\">Dudley Dursley</a> – Muggle son of Vernon Dursley and Petunia Evans, first cousin of Harry Potter.</li>\n",
            "<li><a href=\"/wiki/List_of_supporting_Harry_Potter_characters#Marge_Dursley\" title=\"List of supporting Harry Potter characters\">Marge Dursley</a> – Muggle sister of Vernon Dursley.</li>\n",
            "<li><a href=\"/wiki/List_of_supporting_Harry_Potter_characters#Petunia_Dursley\" title=\"List of supporting Harry Potter characters\">Petunia Dursley</a> – Harry's aunt, and his mother Lily's sister.  Vernon's wife and Dudley's mother.</li>\n",
            "<li><a href=\"/wiki/List_of_supporting_Harry_Potter_characters#Vernon_Dursley\" title=\"List of supporting Harry Potter characters\">Vernon Dursley</a> – Harry Potter's Muggle uncle. Petunia's husband and Dudley's father.</li>\n",
            "<li><a class=\"mw-redirect\" href=\"/wiki/Marietta_Edgecombe\" title=\"Marietta Edgecombe\">Marietta Edgecombe</a> – Ravenclaw student one year above Harry. Member of Dumbledore's Army who later betrays the group to <a href=\"/wiki/Dolores_Umbridge\" title=\"Dolores Umbridge\">Dolores Umbridge</a>.</li>\n",
            "<li><a class=\"mw-redirect\" href=\"/wiki/Arabella_Figg\" title=\"Arabella Figg\">Arabella Figg</a> – Squib neighbour of the Dursleys. Member of the <a href=\"/wiki/Order_of_the_Phoenix_(fictional_organisation)\" title=\"Order of the Phoenix (fictional organisation)\">Order of the Phoenix</a>.</li>\n",
            "<li><a class=\"mw-redirect\" href=\"/wiki/Argus_Filch\" title=\"Argus Filch\">Argus Filch</a> – Squib caretaker of Hogwarts.</li>\n",
            "<li><a class=\"mw-redirect\" href=\"/wiki/Justin_Finch-Fletchley\" title=\"Justin Finch-Fletchley\">Justin Finch-Fletchley</a> – Muggle-born Hufflepuff student in Harry's year. Member of Dumbledore's Army.</li>\n",
            "<li><a class=\"mw-redirect\" href=\"/wiki/Seamus_Finnigan\" title=\"Seamus Finnigan\">Seamus Finnigan</a> – Gryffindor student in Harry's year. Member of Dumbledore's Army.</li>\n",
            "<li>Nicolas Flamel – Creator and owner of the Philosopher's Stone.</li>\n",
            "<li><a class=\"mw-redirect\" href=\"/wiki/Mundungus_Fletcher\" title=\"Mundungus Fletcher\">Mundungus Fletcher</a> – Common thief and shifty Order of the Phoenix member.</li>\n",
            "<li><a class=\"mw-redirect\" href=\"/wiki/Filius_Flitwick\" title=\"Filius Flitwick\">Filius Flitwick</a> – Head of <a class=\"mw-redirect\" href=\"/wiki/Ravenclaw\" title=\"Ravenclaw\">Ravenclaw</a> House and Charms professor at Hogwarts.</li>\n",
            "<li><a class=\"mw-redirect\" href=\"/wiki/Cornelius_Fudge\" title=\"Cornelius Fudge\">Cornelius Fudge</a> – Minister for Magic in the first five books. Sacked after persistently denying Lord Voldemort's return.</li>\n",
            "<li><a class=\"mw-redirect\" href=\"/wiki/Gaunt_family\" title=\"Gaunt family\">Marvolo Gaunt</a> – The pure-blood father of Merope and Morfin Gaunt, and grandfather of Tom Marvolo Riddle.</li>\n",
            "<li><a class=\"mw-redirect\" href=\"/wiki/Gaunt_family\" title=\"Gaunt family\">Merope Gaunt</a> – Tom Riddle's mother who died in childbirth.</li>\n",
            "<li><a class=\"mw-redirect\" href=\"/wiki/Gaunt_family\" title=\"Gaunt family\">Morfin Gaunt</a> – Marvolo's son and Merope's brother. Framed by his nephew Tom Riddle for Muggle killings, and died in Azkaban.</li>\n",
            "<li><a href=\"/wiki/Dumbledore%27s_Army#Anthony_Goldstein\" title=\"Dumbledore's Army\">Anthony Goldstein</a> – <a class=\"mw-redirect\" href=\"/wiki/Ravenclaw\" title=\"Ravenclaw\">Ravenclaw</a> student in Harry's year. Member of <a href=\"/wiki/Dumbledore%27s_Army\" title=\"Dumbledore's Army\">Dumbledore's Army</a>.</li>\n",
            "<li><a href=\"/wiki/Death_Eater#Death_Eaters_and_their_crimes\" title=\"Death Eater\">Goyle</a> – <a href=\"/wiki/Death_Eater\" title=\"Death Eater\">Death Eater</a> and father of Gregory Goyle.</li>\n",
            "<li><a class=\"mw-redirect\" href=\"/wiki/Gregory_Goyle\" title=\"Gregory Goyle\">Gregory Goyle</a> – <a class=\"mw-redirect\" href=\"/wiki/Slytherin\" title=\"Slytherin\">Slytherin</a> student in Harry's year. Slytherin Quidditch Beater and member of the Inquisitorial Squad.</li>\n",
            "<li><a href=\"/wiki/Hermione_Granger\" title=\"Hermione Granger\">Hermione Granger</a> – Muggle-born <a class=\"mw-redirect\" href=\"/wiki/Gryffindor\" title=\"Gryffindor\">Gryffindor</a> student in Harry's year and one of his best friends. Prefect and co-founder of Dumbledore's Army.</li>\n",
            "<li>Astoria Greengrass – <a href=\"/wiki/Draco_Malfoy\" title=\"Draco Malfoy\">Draco Malfoy</a>'s wife. She died in 2019 due to her blood curse.</li>\n",
            "<li>Gregorovitch – highly regarded <a href=\"/wiki/Eastern_Europe\" title=\"Eastern Europe\">Eastern European</a> wandmaker.</li>\n",
            "<li><a class=\"mw-redirect\" href=\"/wiki/Fenrir_Greyback\" title=\"Fenrir Greyback\">Fenrir Greyback</a> – Werewolf working for the Death Eaters.</li>\n",
            "<li><a class=\"mw-redirect\" href=\"/wiki/Gellert_Grindelwald\" title=\"Gellert Grindelwald\">Gellert Grindelwald</a> – Dark wizard who was jailed after Albus Dumbledore defeated him in the 1940s.</li>\n",
            "<li><a class=\"mw-redirect\" href=\"/wiki/Wilhelmina_Grubbly-Plank\" title=\"Wilhelmina Grubbly-Plank\">Wilhelmina Grubbly-Plank</a> – Substitute Care of Magical Creatures professor during Harry's fourth and fifth years.</li>\n",
            "<li><a class=\"mw-redirect\" href=\"/wiki/Godric_Gryffindor\" title=\"Godric Gryffindor\">Godric Gryffindor</a> – One of the four founders of Hogwarts. He was a very powerful wizard.</li>\n",
            "<li><a href=\"/wiki/Rubeus_Hagrid\" title=\"Rubeus Hagrid\">Rubeus Hagrid</a> – Half-giant Hogwarts gamekeeper, and Care of Magical Creatures professor starting in Harry's third year. Member of the Order of the Phoenix. As a Hogwarts student, he was expelled in his third year.</li>\n",
            "<li><a class=\"mw-redirect\" href=\"/wiki/Rolanda_Hooch\" title=\"Rolanda Hooch\">Rolanda Hooch</a> – Hogwarts flying instructor and Quidditch referee.</li>\n",
            "<li><a class=\"mw-redirect\" href=\"/wiki/Mafalda_Hopkirk\" title=\"Mafalda Hopkirk\">Mafalda Hopkirk</a> – Witch who works in the Ministry of Magic. Impersonated by Hermione Granger.</li>\n",
            "<li><a class=\"mw-redirect\" href=\"/wiki/Helga_Hufflepuff\" title=\"Helga Hufflepuff\">Helga Hufflepuff</a>- Founder of Hufflepuff House. Co-founder of Hogwarts School of Witchcraft and Wizardry.</li>\n",
            "<li><a class=\"mw-redirect\" href=\"/wiki/Angelina_Johnson\" title=\"Angelina Johnson\">Angelina Johnson</a> – Gryffindor student two years above Harry. Quidditch Chaser and later team captain.</li>\n",
            "<li><a class=\"mw-redirect\" href=\"/wiki/Lee_Jordan_(Harry_Potter)\" title=\"Lee Jordan (Harry Potter)\">Lee Jordan</a> – Gryffindor student two years above Harry. Hogwarts Quidditch commentator and good friend of Fred and George Weasley.</li>\n",
            "<li><a class=\"mw-redirect\" href=\"/wiki/Bertha_Jorkins\" title=\"Bertha Jorkins\">Bertha Jorkins</a> – Ministry of Magic employee that worked under the Department of Magical Games and Sports. Killed by Voldemort in order to create Nagini as the last horcrux.</li>\n",
            "<li><a class=\"mw-redirect\" href=\"/wiki/Igor_Karkaroff\" title=\"Igor Karkaroff\">Igor Karkaroff</a> – Reformed Death Eater. Headmaster of wizarding school <a class=\"mw-redirect\" href=\"/wiki/Durmstrang\" title=\"Durmstrang\">Durmstrang</a>.</li>\n",
            "<li><a class=\"mw-redirect\" href=\"/wiki/Viktor_Krum\" title=\"Viktor Krum\">Viktor Krum</a> – <a href=\"/wiki/Bulgaria\" title=\"Bulgaria\">Bulgarian</a> Quidditch Seeker and Durmstrang student who participated in the <a class=\"mw-redirect\" href=\"/wiki/Triwizard_Tournament\" title=\"Triwizard Tournament\">Triwizard Tournament</a>.</li>\n",
            "<li><a class=\"mw-redirect\" href=\"/wiki/Silvanus_Kettleburn\" title=\"Silvanus Kettleburn\">Silvanus Kettleburn</a> – Care of Magical Creatures teacher until Harry's third year.</li>\n",
            "<li><a href=\"/wiki/Bellatrix_Lestrange\" title=\"Bellatrix Lestrange\">Bellatrix Lestrange</a> – Cousin of <a href=\"/wiki/Sirius_Black\" title=\"Sirius Black\">Sirius Black</a>. Death Eater who tortured Neville Longbottom's parents Frank and Alice into insanity. Killed by <a class=\"mw-redirect\" href=\"/wiki/Molly_Weasley\" title=\"Molly Weasley\">Molly Weasley</a> during the Battle of Hogwarts.</li>\n",
            "<li><a class=\"mw-redirect\" href=\"/wiki/Gilderoy_Lockhart\" title=\"Gilderoy Lockhart\">Gilderoy Lockhart</a> – Fraudulent celebrity author and <a class=\"mw-redirect\" href=\"/wiki/Defence_Against_the_Dark_Arts\" title=\"Defence Against the Dark Arts\">Defence Against the Dark Arts</a> teacher. Lost his memory after a memory charm backfired and resided in <a class=\"mw-redirect\" href=\"/wiki/St_Mungo%27s_Hospital_for_Magical_Maladies_and_Injuries\" title=\"St Mungo's Hospital for Magical Maladies and Injuries\">St. Mungo's</a> afterwards.</li>\n",
            "<li><a href=\"/wiki/Order_of_the_Phoenix_(fictional_organisation)#Original\" title=\"Order of the Phoenix (fictional organisation)\">Alice and Frank Longbottom</a> – Neville Longbottom's parents. Aurors and members of the original Order of the Phoenix. Tortured into insanity by Bellatrix Lestrange.</li>\n",
            "<li><a class=\"mw-redirect\" href=\"/wiki/Augusta_Longbottom\" title=\"Augusta Longbottom\">Augusta Longbottom</a> – Frank's mother and Neville's grandmother, who raises him after his parents are incapacitated.</li>\n",
            "<li><a href=\"/wiki/Neville_Longbottom\" title=\"Neville Longbottom\">Neville Longbottom</a> – Gryffindor student in Harry's year. Member of <a href=\"/wiki/Dumbledore%27s_Army\" title=\"Dumbledore's Army\">Dumbledore's Army</a>.</li>\n",
            "<li><a href=\"/wiki/Luna_Lovegood\" title=\"Luna Lovegood\">Luna Lovegood</a> – Xenophilius Lovegood's daughter and Ravenclaw student one year below Harry. Member of Dumbledore's Army and wife of <a class=\"mw-redirect\" href=\"/wiki/Newt_Scamander\" title=\"Newt Scamander\">Newt Scamander</a>'s grandson Rolf.</li>\n",
            "<li><a class=\"mw-redirect\" href=\"/wiki/Xenophilius_Lovegood\" title=\"Xenophilius Lovegood\">Xenophilius Lovegood</a> – Luna's father. Editor of tabloid magazine <i><a class=\"mw-redirect\" href=\"/wiki/The_Quibbler\" title=\"The Quibbler\">The Quibbler</a></i>.</li>\n",
            "<li><a href=\"/wiki/Remus_Lupin\" title=\"Remus Lupin\">Remus Lupin</a> – Lycanthropic <a class=\"mw-redirect\" href=\"/wiki/Gryffindor\" title=\"Gryffindor\">Gryffindor</a> student before Harry's time who befriended Sirius Black and James Potter. Professor of Defence Against the Dark Arts in Harry's third year, and member of the Order of the Phoenix. He and his wife <a class=\"mw-redirect\" href=\"/wiki/Nymphadora_Tonks\" title=\"Nymphadora Tonks\">Nymphadora Tonks</a> gave birth to a son, Teddy, before dying in the <a class=\"mw-redirect\" href=\"/wiki/Battle_of_Hogwarts\" title=\"Battle of Hogwarts\">Battle of Hogwarts</a>.</li>\n",
            "<li><a class=\"mw-redirect\" href=\"/wiki/Walden_Macnair\" title=\"Walden Macnair\">Walden Macnair</a> – <a href=\"/wiki/Death_Eater\" title=\"Death Eater\">Death Eater</a> and Committee of Disposal of Dangerous Creatures' executioner. Injured badly by Hagrid during the Battle of Hogwarts.</li>\n",
            "<li><a href=\"/wiki/Draco_Malfoy\" title=\"Draco Malfoy\">Draco Malfoy</a> – <a class=\"mw-redirect\" href=\"/wiki/Slytherin\" title=\"Slytherin\">Slytherin</a> student in Harry's year. Quidditch Seeker, prefect, and member of the Inquisitorial Squad.</li>\n",
            "<li><a class=\"mw-redirect\" href=\"/wiki/Lucius_Malfoy\" title=\"Lucius Malfoy\">Lucius Malfoy</a> – Draco's father and an influential Death Eater. Governor of Hogwarts early in the series.</li>\n",
            "<li><a class=\"mw-redirect\" href=\"/wiki/Narcissa_Malfoy\" title=\"Narcissa Malfoy\">Narcissa Malfoy</a> – Lucius' wife and Draco's mother. Sister of Bellatrix Lestrange and Andromeda Tonks.</li>\n",
            "<li>Scorpius Malfoy – Son of <a href=\"/wiki/Draco_Malfoy\" title=\"Draco Malfoy\">Draco Malfoy</a> and Astoria Greengrass. Sorted into <a class=\"mw-redirect\" href=\"/wiki/Slytherin\" title=\"Slytherin\">Slytherin</a>. Friends with Albus Potter.</li>\n",
            "<li>Madam Malkin – Clothing shop owner in <a class=\"mw-redirect\" href=\"/wiki/Diagon_Alley\" title=\"Diagon Alley\">Diagon Alley</a>.</li>\n",
            "<li>Griselda Marchbanks – Governor of the Wizarding Examinations Authority which ran the O.W.L, N.E.W.T., and W.O.M.B.A.T. exams. Wizengamot elder.</li>\n",
            "<li><a class=\"mw-redirect\" href=\"/wiki/Olympe_Maxime\" title=\"Olympe Maxime\">Olympe Maxime</a> – Half-giantess. Headmistress of Beauxbatons.</li>\n",
            "<li><a class=\"mw-redirect\" href=\"/wiki/Ernie_Macmillan\" title=\"Ernie Macmillan\">Ernie Macmillan</a> – <a class=\"mw-redirect\" href=\"/wiki/Hufflepuff\" title=\"Hufflepuff\">Hufflepuff</a> student in Harry's year. Prefect and member of Dumbledore's Army.</li>\n",
            "<li><a href=\"/wiki/Minerva_McGonagall\" title=\"Minerva McGonagall\">Minerva McGonagall</a> – Hogwarts Transfiguration professor, Head of Gryffindor House, Deputy Headmistress of Hogwarts, and member of the Order of the Phoenix. Assumes position of Hogwarts Headmaster for a time after Voldemort's death.</li>\n",
            "<li>Eloise Midgen – Gryffindor student that accidentally removed her nose trying to get rid of her acne. Known for her bad case of acne.</li>\n",
            "<li>Cormac McLaggen – Gryffindor student one year above Harry Potter. Quidditch Keeper and member of <a class=\"mw-redirect\" href=\"/wiki/Horace_Slughorn\" title=\"Horace Slughorn\">Horace Slughorn</a>'s Slug Club.</li>\n",
            "<li>Graham Montague – Slytherin Quidditch Chaser who became trapped inside a <a class=\"mw-redirect\" href=\"/wiki/Vanishing_Cabinet\" title=\"Vanishing Cabinet\">Vanishing Cabinet</a> for six months.</li>\n",
            "<li><a class=\"mw-redirect\" href=\"/wiki/Alastor_Moody\" title=\"Alastor Moody\">Alastor (Mad-Eye) Moody</a> – Retired <a class=\"mw-redirect\" href=\"/wiki/Auror\" title=\"Auror\">Auror</a> and member of the Order of the Phoenix. Impersonated by <a class=\"mw-redirect\" href=\"/wiki/Barty_Crouch_Jr.\" title=\"Barty Crouch Jr.\">Barty Crouch Jr.</a> in his scheme to enter Harry into the Triwizard Tournament. Killed by Voldemort.</li>\n",
            "<li>Theodore Nott – Slytherin student in the same year as Harry Potter, and son of a Death Eater.</li>\n",
            "<li>Nott Sr – Theodore Nott's father. Death Eater.</li>\n",
            "<li>Bob Ogden – Leader of the Department of Magical Law Enforcement Squad in the 1920s. Turned the <a class=\"mw-redirect\" href=\"/wiki/Gaunt_family\" title=\"Gaunt family\">Gaunt family</a> over to the <a class=\"mw-redirect\" href=\"/wiki/Wizengamot\" title=\"Wizengamot\">Wizengamot</a> for using magic in front of a <a href=\"/wiki/Muggle\" title=\"Muggle\">Muggle</a>. Died before Harry Potter's sixth year.</li>\n",
            "<li><a class=\"mw-redirect\" href=\"/wiki/Ollivander\" title=\"Ollivander\">Garrick Ollivander</a> – Wandmaker and owner of the <a class=\"mw-redirect\" href=\"/wiki/Ollivanders\" title=\"Ollivanders\">Ollivanders</a> wand shop. Kidnapped by the Malfoy family for several months until freed by Harry, Ron, and Hermione.</li>\n",
            "<li><a class=\"mw-redirect\" href=\"/wiki/Pansy_Parkinson\" title=\"Pansy Parkinson\">Pansy Parkinson</a> – <a class=\"mw-redirect\" href=\"/wiki/Slytherin\" title=\"Slytherin\">Slytherin</a> student in Harry's year. Prefect and member of the <a class=\"mw-redirect\" href=\"/wiki/Inquisitorial_Squad\" title=\"Inquisitorial Squad\">Inquisitorial Squad</a>.</li>\n",
            "<li><a class=\"mw-redirect\" href=\"/wiki/Padma_Patil\" title=\"Padma Patil\">Padma Patil</a> – <a class=\"mw-redirect\" href=\"/wiki/Ravenclaw\" title=\"Ravenclaw\">Ravenclaw</a> student in Harry's year. Identical twin sister of Gryffindor student Parvati Patil, and a member of Dumbledore's Army.</li>\n",
            "<li><a class=\"mw-redirect\" href=\"/wiki/Parvati_Patil\" title=\"Parvati Patil\">Parvati Patil</a> – <a class=\"mw-redirect\" href=\"/wiki/Gryffindor\" title=\"Gryffindor\">Gryffindor</a> student in Harry's year and Padma's identical twin sister. Member of Dumbledore's Army.</li>\n",
            "<li><a class=\"mw-redirect\" href=\"/wiki/Peter_Pettigrew_(character)\" title=\"Peter Pettigrew (character)\">Peter Pettigrew</a> – Death Eater and former school friend of James Potter, Sirius Black and Remus Lupin. Betrays Harry's parents James and Lily Potter to Voldemort, resulting in their deaths. Pettigrew is first introduced in the series as Ron Weasley's pet rat Scabbers. He is strangled to death by his own metal prosthetic hand after his loyalty towards Voldemort wavers upon Harry confronting him about having previously spared Pettigrew's life.</li>\n",
            "<li><a class=\"mw-redirect\" href=\"/wiki/The_Peverell_brothers\" title=\"The Peverell brothers\">Antioch, Cadmus, and Ignotus Peverell</a> – Three brothers who were the original owners of the <a class=\"mw-redirect\" href=\"/wiki/Elder_Wand\" title=\"Elder Wand\">Elder Wand</a>, the <a class=\"mw-redirect\" href=\"/wiki/Resurrection_Stone\" title=\"Resurrection Stone\">Resurrection Stone</a>, and the <a href=\"/wiki/Magical_objects_in_Harry_Potter#Invisibility_Cloak\" title=\"Magical objects in Harry Potter\">Invisibility Cloak</a>, respectively.</li>\n",
            "<li><a class=\"mw-redirect\" href=\"/wiki/Irma_Pince\" title=\"Irma Pince\">Irma Pince</a> – Hogwarts librarian.</li>\n",
            "<li><a class=\"mw-redirect\" href=\"/wiki/Order_of_the_Phoenix_(organisation)#Members_of_the_Order\" title=\"Order of the Phoenix (organisation)\">Sturgis Podmore</a> – Member of the Order of the Phoenix.</li>\n",
            "<li><a class=\"mw-redirect\" href=\"/wiki/Poppy_Pomfrey\" title=\"Poppy Pomfrey\">Poppy Pomfrey</a> – Hogwarts school nurse.</li>\n",
            "<li><a href=\"/wiki/Harry_Potter_(character)\" title=\"Harry Potter (character)\">Harry Potter</a> – The main character of the series. Orphaned son of James and Lily Potter. Gryffindor student at Hogwarts, and co-founder and first leader of Dumbledore's Army. The husband of Ginny Weasley, father of James Sirius, Albus Severus and Lily Luna Potter.</li>\n",
            "<li><a class=\"mw-redirect\" href=\"/wiki/Order_of_the_Phoenix_(fiction)#James_Potter\" title=\"Order of the Phoenix (fiction)\">James Potter</a> – Harry Potter's father and member of the Order of the Phoenix. Killed along with his wife Lily by Lord Voldemort prior to the start of the series.</li>\n",
            "<li><a class=\"mw-redirect\" href=\"/wiki/Order_of_the_Phoenix_(fiction)#Lily_Potter\" title=\"Order of the Phoenix (fiction)\">Lily Potter</a> – Harry Potter's mother and member of the Order of the Phoenix. Killed by Lord Voldemort.</li>\n",
            "<li>Albus Severus Potter – Second child of Harry Potter and Ginny Weasley.</li>\n",
            "<li>James Sirius Potter – Harry and Ginny's first child.</li>\n",
            "<li>Lily Luna Potter – Harry and Ginny's third child.</li>\n",
            "<li><a class=\"mw-redirect\" href=\"/wiki/Quirinus_Quirrell\" title=\"Quirinus Quirrell\">Quirinus Quirrell</a> – Defence Against the Dark Arts professor in Harry Potter's first year. Possessed by Lord Voldemort.</li>\n",
            "<li><a href=\"/wiki/Hogwarts_staff#The_Grey_Lady\" title=\"Hogwarts staff\">Helena Ravenclaw/The Grey Lady</a> – Daughter of house founder Rowena Ravenclaw. Stole and hid her mother's diadem, and became Ravenclaw's house ghost after being killed by the Bloody Baron.</li>\n",
            "<li><a class=\"mw-redirect\" href=\"/wiki/Rowena_Ravenclaw\" title=\"Rowena Ravenclaw\">Rowena Ravenclaw</a> – One of the four founders of Hogwarts School of Witchcraft and Wizardry, and founder of the Ravenclaw house.</li>\n",
            "<li>Delphi Riddle – The main antagonist of <i><a href=\"/wiki/Harry_Potter_and_the_Cursed_Child\" title=\"Harry Potter and the Cursed Child\">Harry Potter and the Cursed Child</a></i> and daughter of Voldemort and Bellatrix Lestrange who tries to bring Voldemort back to life by completing a prophecy. Been imprisoned in Azkaban by Harry Potter, Ron Weasley, Hermione Granger, Draco Malfoy, Ginny Weasley.</li>\n",
            "<li>Mary Riddle – Thomas Riddle Sr.'s Muggle wife, and Thomas Riddle Jr.'s mother. Killed by her grandson, Lord Voldemort.</li>\n",
            "<li>Thomas Riddle Sr. – Mary's Muggle husband and Thomas Riddle Jr.'s father. Killed by Voldemort.</li>\n",
            "<li>Thomas Riddle Jr. – Voldemort's Muggle father and <a class=\"mw-redirect\" href=\"/wiki/Gaunt_family\" title=\"Gaunt family\">Merope Gaunt</a>'s husband. Killed by his son, Lord Voldemort.</li>\n",
            "<li>Thomas Marvolo Riddle – Slytherin student who became <a href=\"/wiki/Lord_Voldemort\" title=\"Lord Voldemort\">Lord Voldemort</a>.</li>\n",
            "<li>Demelza Robins – Gryffindor student and Quidditch Chaser.</li>\n",
            "<li><a class=\"mw-redirect\" href=\"/wiki/Augustus_Rookwood\" title=\"Augustus Rookwood\">Augustus Rookwood</a> – Death Eater and spy working in the Department of Mysteries.</li>\n",
            "<li><a class=\"mw-redirect\" href=\"/wiki/Thorfinn_Rowle\" title=\"Thorfinn Rowle\">Thorfinn Rowle</a> – Death Eater.</li>\n",
            "<li><a class=\"mw-redirect\" href=\"/wiki/Albert_Runcorn\" title=\"Albert Runcorn\">Albert Runcorn</a> – Ministry of Magic employee whose chief function was as an investigator of alleged Muggle-borns.</li>\n",
            "<li><a class=\"mw-redirect\" href=\"/wiki/Newt_Scamander\" title=\"Newt Scamander\">Newt Scamander</a> – Magizoologist and author of <i><a href=\"/wiki/Fantastic_Beasts_and_Where_to_Find_Them\" title=\"Fantastic Beasts and Where to Find Them\">Fantastic Beasts and Where to Find Them</a></i>. Main character in the <i><a class=\"mw-redirect\" href=\"/wiki/Fantastic_Beasts_(film_series)\" title=\"Fantastic Beasts (film series)\">Fantastic Beasts</a></i> film series. Expelled Hogwarts student who excels in curing different sicknesses.</li>\n",
            "<li><a class=\"mw-redirect\" href=\"/wiki/Rufus_Scrimgeour\" title=\"Rufus Scrimgeour\">Rufus Scrimgeour</a> – Head of the Auror Office who replaces <a class=\"mw-redirect\" href=\"/wiki/Cornelius_Fudge\" title=\"Cornelius Fudge\">Cornelius Fudge</a> as Minister for Magic. Killed by Death Eaters.</li>\n",
            "<li><a class=\"mw-redirect\" href=\"/wiki/Kingsley_Shacklebolt\" title=\"Kingsley Shacklebolt\">Kingsley Shacklebolt</a> – <a class=\"mw-redirect\" href=\"/wiki/Auror\" title=\"Auror\">Auror</a> and member of the Order of the Phoenix. Replaces <a class=\"mw-redirect\" href=\"/wiki/Pius_Thicknesse\" title=\"Pius Thicknesse\">Pius Thicknesse</a> as Minister for Magic.</li>\n",
            "<li><a class=\"mw-redirect\" href=\"/wiki/Stan_Shunpike\" title=\"Stan Shunpike\">Stan Shunpike</a> – Conductor of the triple-decker Knight Bus. Jailed in Azkaban on suspicions of being a Death Eater.</li>\n",
            "<li><a class=\"mw-redirect\" href=\"/wiki/Aurora_Sinistra\" title=\"Aurora Sinistra\">Aurora Sinistra</a> – Astronomy professor at Hogwarts.</li>\n",
            "<li><a class=\"mw-redirect\" href=\"/wiki/Rita_Skeeter\" title=\"Rita Skeeter\">Rita Skeeter</a> – Reporter and tabloid journalist for the <i><a class=\"mw-redirect\" href=\"/wiki/Daily_Prophet\" title=\"Daily Prophet\">Daily Prophet</a></i>.</li>\n",
            "<li><a class=\"mw-redirect\" href=\"/wiki/Horace_Slughorn\" title=\"Horace Slughorn\">Horace Slughorn</a> – Former Hogwarts Potions professor and Head of Slytherin House, whose charges included Tom Riddle. Returned to Hogwarts to teach Potions in Harry's sixth year.</li>\n",
            "<li>Salazar Slytherin – One of the four founders of Hogwarts School of Witchcraft and Wizardry, and founder of the Slytherin house.</li>\n",
            "<li><a class=\"mw-redirect\" href=\"/wiki/Zacharias_Smith\" title=\"Zacharias Smith\">Zacharias Smith</a> – <a class=\"mw-redirect\" href=\"/wiki/Hufflepuff\" title=\"Hufflepuff\">Hufflepuff</a> Quidditch Chaser in Harry's year. Member of <a href=\"/wiki/Dumbledore%27s_Army\" title=\"Dumbledore's Army\">Dumbledore's Army</a>.</li>\n",
            "<li><a href=\"/wiki/Severus_Snape\" title=\"Severus Snape\">Severus Snape</a> – Potions and later <a class=\"mw-redirect\" href=\"/wiki/Defence_Against_the_Dark_Arts\" title=\"Defence Against the Dark Arts\">Defence Against the Dark Arts</a> professor at Hogwarts. Head of Slytherin House, and member of both the Death Eaters and the Order of the Phoenix as a double agent spying for Dumbledore.</li>\n",
            "<li><a class=\"mw-redirect\" href=\"/wiki/Alicia_Spinnet\" title=\"Alicia Spinnet\">Alicia Spinnet</a> – Gryffindor student two years above Harry. Quidditch Chaser and member of Dumbledore's Army.</li>\n",
            "<li><a class=\"mw-redirect\" href=\"/wiki/Pomona_Sprout\" title=\"Pomona Sprout\">Pomona Sprout</a> – Hogwarts <a class=\"mw-redirect\" href=\"/wiki/Herbology\" title=\"Herbology\">Herbology</a> professor and Head of Hufflepuff House.</li>\n",
            "<li><a class=\"mw-redirect\" href=\"/wiki/Pius_Thicknesse\" title=\"Pius Thicknesse\">Pius Thicknesse</a> – Minister for Magic while under the Imperius Curse. Replaced by Kingsley Shacklebolt.</li>\n",
            "<li><a class=\"mw-redirect\" href=\"/wiki/Dean_Thomas_(Harry_Potter)\" title=\"Dean Thomas (Harry Potter)\">Dean Thomas</a> – <a class=\"mw-redirect\" href=\"/wiki/Gryffindor\" title=\"Gryffindor\">Gryffindor</a> student in Harry's year. Member of <a href=\"/wiki/Dumbledore%27s_Army\" title=\"Dumbledore's Army\">Dumbledore's Army</a>.</li>\n",
            "<li><a class=\"mw-redirect\" href=\"/wiki/Andromeda_Tonks\" title=\"Andromeda Tonks\">Andromeda Tonks</a> – Sister of Bellatrix Lestrange and Narcissa Malfoy, and the mother of Nymphadora Tonks. Disowned by her family for marrying Muggle-born Ted Tonks.</li>\n",
            "<li><a class=\"mw-redirect\" href=\"/wiki/Nymphadora_Tonks\" title=\"Nymphadora Tonks\">Nymphadora Tonks</a> – Ted and Andromeda's daughter. Auror and member of the Order of the Phoenix. She marries Remus Lupin and becomes the mother of a son, Teddy, before she and Remus are killed in the Battle of Hogwarts.</li>\n",
            "<li><a class=\"mw-redirect\" href=\"/wiki/Ted_Tonks\" title=\"Ted Tonks\">Ted Tonks</a> – Andromeda's Muggle-born husband, and the father of Nymphadora Tonks. Killed by Snatchers.</li>\n",
            "<li><a class=\"mw-redirect\" href=\"/wiki/Sybill_Trelawney\" title=\"Sybill Trelawney\">Sybill Trelawney</a> – Hogwarts Divination professor. Predicted the prophecy that prompted Lord Voldemort to go after the Potters.</li>\n",
            "<li><a class=\"mw-redirect\" href=\"/wiki/Wilkie_Twycross\" title=\"Wilkie Twycross\">Wilkie Twycross</a> – Hogwarts Apparition instructor who works in the Department of Magical Transportation.</li>\n",
            "<li><a href=\"/wiki/Dolores_Umbridge\" title=\"Dolores Umbridge\">Dolores Umbridge</a> – Senior Undersecretary to the Minister for Magic, Hogwarts High Inquisitor and temporary Headmistress of Hogwarts. She becomes Defence Against the Dark Arts professor in Harry Potter's fifth year, and joins in the persecution of half-bloods and Muggle-borns under Voldemort. Sentenced to life imprisonment in Azkaban.</li>\n",
            "<li><a class=\"mw-redirect\" href=\"/wiki/Emmeline_Vance\" title=\"Emmeline Vance\">Emmeline Vance</a> – Member of the Order of the Phoenix. Killed by Death Eaters.</li>\n",
            "<li>Romilda Vane – Gryffindor student who unsuccessfully tries to romance Harry.</li>\n",
            "<li><a href=\"/wiki/Hogwarts_staff#The_staff_and_their_positions\" title=\"Hogwarts staff\">Septima Vector</a> – <a href=\"/wiki/Arithmancy\" title=\"Arithmancy\">Arithmancy</a> professor at Hogwarts.</li>\n",
            "<li><a href=\"/wiki/Lord_Voldemort\" title=\"Lord Voldemort\">Lord Voldemort</a> (Tom Marvolo Riddle)– The villain of the series. Murderer of Harry Potter's parents and many others in his quest for immortality and absolute power.</li>\n",
            "<li><a class=\"mw-redirect\" href=\"/wiki/Myrtle_Warren\" title=\"Myrtle Warren\">Myrtle Warren</a>/Moaning Myrtle – Muggle-born <a class=\"mw-redirect\" href=\"/wiki/Ravenclaw\" title=\"Ravenclaw\">Ravenclaw</a> student during Tom Riddle's time at Hogwarts. Killed by the Basilisk in a girls' bathroom, which she continued to haunt after her death.</li>\n",
            "<li><a class=\"mw-redirect\" href=\"/wiki/Arthur_Weasley\" title=\"Arthur Weasley\">Arthur Weasley</a> – Muggle-obsessed <a href=\"/wiki/Ministry_of_Magic\" title=\"Ministry of Magic\">Ministry of Magic</a> employee, and member of the Order of the Phoenix. Husband of Molly Weasley, father of Bill, Charlie, Percy, Fred, George, Ron, and Ginny Weasley.</li>\n",
            "<li><a class=\"mw-redirect\" href=\"/wiki/Bill_Weasley\" title=\"Bill Weasley\">Bill Weasley</a> – Oldest son of Arthur and Molly Weasley, and <a class=\"mw-redirect\" href=\"/wiki/Gringotts\" title=\"Gringotts\">Gringotts</a> employee. Marries <a class=\"mw-redirect\" href=\"/wiki/Fleur_Delacour\" title=\"Fleur Delacour\">Fleur Delacour</a>.</li>\n",
            "<li><a class=\"mw-redirect\" href=\"/wiki/Charlie_Weasley\" title=\"Charlie Weasley\">Charlie Weasley</a> – Second son of Arthur and Molly Weasley. Member of the Order of the Phoenix. Works with dragons in <a href=\"/wiki/Romania\" title=\"Romania\">Romania</a>.</li>\n",
            "<li><a href=\"/wiki/Fred_and_George_Weasley\" title=\"Fred and George Weasley\">Fred Weasley</a> – Son of Arthur and Molly Weasley and identical twin brother of George Weasley. Gryffindor Quidditch Beater and member of Dumbledore's Army, later co-owner of joke shop Weasleys' Wizard Wheezes. Killed in the Battle of Hogwarts.</li>\n",
            "<li><a href=\"/wiki/Fred_and_George_Weasley\" title=\"Fred and George Weasley\">George Weasley</a> – Son of Arthur and Molly Weasley and identical twin brother of Fred Weasley. Gryffindor Quidditch Beater and member of Dumbledore's Army. Co-owner of Weasleys' Wizard Wheezes. Marries Angelina Johnson.</li>\n",
            "<li><a href=\"/wiki/Ginny_Weasley\" title=\"Ginny Weasley\">Ginny Weasley</a> – Only daughter and youngest child of Arthur and Molly Weasley. Gryffindor student one year below Harry, Quidditch Seeker and Chaser, and member of Dumbledore's Army. Married to Harry Potter.</li>\n",
            "<li>Hugo Weasley – Son of Ron Weasley and Hermione Granger, brother of Rose Weasley.</li>\n",
            "<li><a class=\"mw-redirect\" href=\"/wiki/Molly_Weasley\" title=\"Molly Weasley\">Molly Weasley</a> – Wife of Arthur Weasley and mother of Bill, Charlie, Percy, Fred, George, Ron, and Ginny. Member of the Order of the Phoenix.</li>\n",
            "<li><a class=\"mw-redirect\" href=\"/wiki/Percy_Weasley\" title=\"Percy Weasley\">Percy Weasley</a> – Third son of Arthur and Molly Weasley. Gryffindor prefect and Head Boy, then <a href=\"/wiki/Ministry_of_Magic\" title=\"Ministry of Magic\">Ministry of Magic</a> employee, during which he becomes estranged from his family before joining them in fighting the Death Eaters in the Battle of Hogwarts.</li>\n",
            "<li><a href=\"/wiki/Ron_Weasley\" title=\"Ron Weasley\">Ron Weasley</a> – Youngest son of Arthur and Molly Weasley who is best friends with Harry Potter and Hermione Granger. Gryffindor Quidditch Keeper, prefect, and co-founder of Dumbledore's Army.</li>\n",
            "<li><a class=\"mw-redirect\" href=\"/wiki/Oliver_Wood_(Harry_Potter)\" title=\"Oliver Wood (Harry Potter)\">Oliver Wood</a> – Gryffindor Quidditch Keeper and captain four years above Harry.</li>\n",
            "<li>Rose Weasley – Daughter of Ron Weasley and Hermione Granger. Sister of Hugo Weasley.</li>\n",
            "<li><a href=\"/wiki/Death_Eater#Corban_Yaxley\" title=\"Death Eater\">Corban Yaxley</a> – <a href=\"/wiki/Death_Eater\" title=\"Death Eater\">Death Eater</a>. Head of Magical Law Enforcement under Voldemort's regime.</li>\n",
            "<li>Blaise Zabini – <a class=\"mw-redirect\" href=\"/wiki/Slytherin\" title=\"Slytherin\">Slytherin</a> student in Harry's year.</li>\n"
          ],
          "name": "stdout"
        }
      ]
    },
    {
      "cell_type": "code",
      "metadata": {
        "colab": {
          "base_uri": "https://localhost:8080/"
        },
        "id": "ehtk5ZIdevGC",
        "outputId": "77d3db07-2651-4dc1-c1ea-afa9b6561db9"
      },
      "source": [
        "len(list_of_names)"
      ],
      "execution_count": null,
      "outputs": [
        {
          "output_type": "execute_result",
          "data": {
            "text/plain": [
              "166"
            ]
          },
          "metadata": {
            "tags": []
          },
          "execution_count": 50
        }
      ]
    },
    {
      "cell_type": "markdown",
      "metadata": {
        "id": "K5ycN19Zjjl3"
      },
      "source": [
        "There's a separate section for characters with unspecified surnames"
      ]
    },
    {
      "cell_type": "code",
      "metadata": {
        "colab": {
          "base_uri": "https://localhost:8080/"
        },
        "id": "O_gXtR_fi2wM",
        "outputId": "fe43c133-7ce7-46ca-ffe0-218d9119cc14"
      },
      "source": [
        "results[0].find_all('ul')[29]"
      ],
      "execution_count": null,
      "outputs": [
        {
          "output_type": "execute_result",
          "data": {
            "text/plain": [
              "<ul><li><a class=\"mw-redirect\" href=\"/wiki/Aragog\" title=\"Aragog\">Aragog</a> – Giant spider raised by <a href=\"/wiki/Rubeus_Hagrid\" title=\"Rubeus Hagrid\">Rubeus Hagrid</a> and lived in the Forbidden Forest.</li></ul>"
            ]
          },
          "metadata": {
            "tags": []
          },
          "execution_count": 52
        }
      ]
    },
    {
      "cell_type": "code",
      "metadata": {
        "colab": {
          "base_uri": "https://localhost:8080/"
        },
        "id": "-uNTqDfpjpec",
        "outputId": "ff976f50-4770-4486-c805-aa8d63a9a778"
      },
      "source": [
        "list_of_names = []\n",
        "for i in range(29, 45):  # it's missing some letters of the alphabet\n",
        "  for list_section in results[0].find_all('ul')[i].find_all('li'):\n",
        "    print(list_section)\n",
        "    list_of_names.append(list_section)"
      ],
      "execution_count": null,
      "outputs": [
        {
          "output_type": "stream",
          "text": [
            "<li><a class=\"mw-redirect\" href=\"/wiki/Aragog\" title=\"Aragog\">Aragog</a> – Giant spider raised by <a href=\"/wiki/Rubeus_Hagrid\" title=\"Rubeus Hagrid\">Rubeus Hagrid</a> and lived in the Forbidden Forest.</li>\n",
            "<li><a class=\"mw-redirect\" href=\"/wiki/Bane_(Harry_Potter)\" title=\"Bane (Harry Potter)\">Bane</a> – Centaur, not very wizard-friendly.</li>\n",
            "<li><a class=\"mw-redirect\" href=\"/wiki/Beedle_the_Bard\" title=\"Beedle the Bard\">Beedle the Bard</a> – Author of several wizarding <a class=\"mw-redirect\" href=\"/wiki/Fairy_tales\" title=\"Fairy tales\">fairy tales</a> including <i>The Tale of the Three Brothers</i>.</li>\n",
            "<li><a class=\"mw-redirect\" href=\"/wiki/The_Bloody_Baron\" title=\"The Bloody Baron\">The Bloody Baron</a> – <a class=\"mw-redirect\" href=\"/wiki/Slytherin\" title=\"Slytherin\">Slytherin</a> House ghost. Suitor of Helena Ravenclaw before killing her in a fit of blind rage, then commits suicide in remorse.</li>\n",
            "<li>Bogrod – Head goblin at <a class=\"mw-redirect\" href=\"/wiki/Gringotts\" title=\"Gringotts\">Gringotts</a> Wizarding Bank. Put under the Imperius curse when Harry, Ron, and Hermione break into Gringotts.</li>\n",
            "<li><a class=\"mw-redirect\" href=\"/wiki/Buckbeak\" title=\"Buckbeak\">Buckbeak</a> – <a href=\"/wiki/Hippogriff\" title=\"Hippogriff\">Hippogriff</a> belonging at various times to Hagrid, <a href=\"/wiki/Sirius_Black\" title=\"Sirius Black\">Sirius Black</a> and <a href=\"/wiki/Harry_Potter_(character)\" title=\"Harry Potter (character)\">Harry Potter</a>.</li>\n",
            "<li>Sir Cadogan – Armored and somewhat mad knight occupying a painting in Hogwarts.</li>\n",
            "<li><a class=\"mw-redirect\" href=\"/wiki/Crookshanks\" title=\"Crookshanks\">Crookshanks</a> – Intelligent cat belonging to <a href=\"/wiki/Hermione_Granger\" title=\"Hermione Granger\">Hermione Granger</a>.</li>\n",
            "<li><a class=\"mw-redirect\" href=\"/wiki/Dobby_(Harry_Potter)\" title=\"Dobby (Harry Potter)\">Dobby</a> – <a class=\"mw-redirect\" href=\"/wiki/House-elf\" title=\"House-elf\">House-elf</a> originally belonging to the <a class=\"mw-redirect\" href=\"/wiki/Malfoy_family\" title=\"Malfoy family\">Malfoy family</a> until he is set free by Harry in <i>Chamber of Secrets</i>, killed by <a href=\"/wiki/Bellatrix_Lestrange\" title=\"Bellatrix Lestrange\">Bellatrix Lestrange</a> in <i>Harry Potter and the Deathly Hallows</i>.</li>\n",
            "<li><a class=\"mw-redirect\" href=\"/wiki/Errol_(Harry_Potter)\" title=\"Errol (Harry Potter)\">Errol</a> – <a href=\"/wiki/Owl\" title=\"Owl\">Owl</a> belonging to the <a class=\"mw-redirect\" href=\"/wiki/Weasley_family\" title=\"Weasley family\">Weasley family</a>.</li>\n",
            "<li><a href=\"/wiki/Rubeus_Hagrid#Fang\" title=\"Rubeus Hagrid\">Fang</a> – Hagrid's pet <a href=\"/wiki/Great_Dane\" title=\"Great Dane\">boarhound</a>.</li>\n",
            "<li><a class=\"mw-redirect\" href=\"/wiki/The_Fat_Friar\" title=\"The Fat Friar\">The Fat Friar</a> – <a class=\"mw-redirect\" href=\"/wiki/Hufflepuff\" title=\"Hufflepuff\">Hufflepuff</a> House ghost.</li>\n",
            "<li><a class=\"mw-redirect\" href=\"/wiki/The_Fat_Lady\" title=\"The Fat Lady\">The Fat Lady</a> – Witch in the painting concealing the entrance to the Gryffindor common room.</li>\n",
            "<li><a class=\"mw-redirect\" href=\"/wiki/Magical_creatures_(Harry_Potter)#Fawkes\" title=\"Magical creatures (Harry Potter)\">Fawkes</a> – <a href=\"/wiki/Phoenix_(mythology)\" title=\"Phoenix (mythology)\">Phoenix</a> belonging to Albus Dumbledore. Saved Harry Potter from the Basilisk inside the <a class=\"mw-redirect\" href=\"/wiki/Chamber_of_Secrets\" title=\"Chamber of Secrets\">Chamber of Secrets</a>.</li>\n",
            "<li><a class=\"mw-redirect\" href=\"/wiki/Firenze_(Harry_Potter)\" title=\"Firenze (Harry Potter)\">Firenze</a> – Centaur and substitute Divination professor at Hogwarts during Harry's fifth year.</li>\n",
            "<li><a href=\"/wiki/Rubeus_Hagrid#Fluffy\" title=\"Rubeus Hagrid\">Fluffy</a> – <a href=\"/wiki/Cerberus\" title=\"Cerberus\">Three-headed dog</a> belonging to Hagrid and protector of the Philosopher's Stone.</li>\n",
            "<li>Gornuk – <a class=\"mw-redirect\" href=\"/wiki/Gringotts\" title=\"Gringotts\">Gringotts</a> goblin who goes on the run from Death Eaters in <i>Deathly Hallows</i> along with fellow goblin Griphook, plus <a href=\"/wiki/Dumbledore%27s_Army#Dean_Thomas\" title=\"Dumbledore's Army\">Dean Thomas</a>, <a class=\"mw-redirect\" href=\"/wiki/Ted_Tonks\" title=\"Ted Tonks\">Ted Tonks</a>, and <a class=\"mw-redirect\" href=\"/wiki/Dirk_Cresswell\" title=\"Dirk Cresswell\">Dirk Cresswell</a>.</li>\n",
            "<li><a class=\"mw-redirect\" href=\"/wiki/Grawp\" title=\"Grawp\">Grawp</a> – Giant and Hagrid's half-brother.</li>\n",
            "<li><a class=\"mw-redirect\" href=\"/wiki/Griphook\" title=\"Griphook\">Griphook</a> – Gringotts Bank goblin who helps Harry and his friends steal Helga Hufflepuff's cup from within the Lestrange vault.</li>\n",
            "<li><a class=\"mw-redirect\" href=\"/wiki/Hedwig_(Harry_Potter)\" title=\"Hedwig (Harry Potter)\">Hedwig</a> – Harry Potter's pet owl. Killed during the Battle of the Seven Potters.</li>\n",
            "<li><a href=\"/wiki/Magical_creatures_in_Harry_Potter#Hokey\" title=\"Magical creatures in Harry Potter\">Hokey</a> – House-elf belonging to Hepzibah Smith.</li>\n",
            "<li>Kreacher – House-elf belonging to the <a href=\"/wiki/Sirius_Black\" title=\"Sirius Black\">Black family</a> and later Harry Potter. Though at first preferring to serve the pureblood line (including Regulus Black, <a class=\"mw-redirect\" href=\"/wiki/Narcissa_Malfoy\" title=\"Narcissa Malfoy\">Narcissa Malfoy</a>, <a href=\"/wiki/Bellatrix_Lestrange\" title=\"Bellatrix Lestrange\">Bellatrix Lestrange</a>, and <a href=\"/wiki/Draco_Malfoy\" title=\"Draco Malfoy\">Draco Malfoy</a>), he eventually prefers serving under <a href=\"/wiki/Harry_Potter_(character)\" title=\"Harry Potter (character)\">Harry</a> as he treats him better.</li>\n",
            "<li><a class=\"mw-redirect\" href=\"/wiki/Magorian\" title=\"Magorian\">Magorian</a> – A centaur.</li>\n",
            "<li><a class=\"mw-redirect\" href=\"/wiki/Supporting_Harry_Potter_characters#Auntie_Muriel\" title=\"Supporting Harry Potter characters\">Great Aunt Muriel</a> – The Weasley children's great-aunt.</li>\n",
            "<li><a class=\"mw-redirect\" href=\"/wiki/Nagini_(Harry_Potter)\" title=\"Nagini (Harry Potter)\">Nagini</a> – Lord Voldemort's massive pet snake that does his bidding. She is one of Voldemort's <a class=\"mw-redirect\" href=\"/wiki/Horcrux\" title=\"Horcrux\">Horcruxes</a> who is ultimately slain by <a href=\"/wiki/Neville_Longbottom\" title=\"Neville Longbottom\">Neville Longbottom</a> during the <a class=\"mw-redirect\" href=\"/wiki/Battle_of_Hogwarts\" title=\"Battle of Hogwarts\">Battle of Hogwarts</a>.</li>\n",
            "<li><a class=\"mw-redirect\" href=\"/wiki/Nearly_Headless_Nick\" title=\"Nearly Headless Nick\">Nearly Headless Nick</a> – <a class=\"mw-redirect\" href=\"/wiki/Gryffindor\" title=\"Gryffindor\">Gryffindor</a> house ghost. Full name is Sir Nicholas de Mimsy-Porpington.</li>\n",
            "<li><a href=\"/wiki/Rubeus_Hagrid#Norbert\" title=\"Rubeus Hagrid\">Norbert</a> – A baby dragon illegally owned by Hagrid who is relocated to a reserve in Romania by friends of Ron's older brother Charlie Weasley.</li>\n",
            "<li><a class=\"mw-redirect\" href=\"/wiki/Peeves\" title=\"Peeves\">Peeves</a> – Hogwarts <a href=\"/wiki/Poltergeist\" title=\"Poltergeist\">poltergeist</a>, a mischievous magical being.</li>\n",
            "<li><a class=\"mw-redirect\" href=\"/wiki/Pigwidgeon\" title=\"Pigwidgeon\">Pigwidgeon</a> – A tiny mischievous owl belonging to Ron Weasley. Called \"Pig\" for short.</li>\n",
            "<li><a class=\"mw-redirect\" href=\"/wiki/Madam_Rosmerta\" title=\"Madam Rosmerta\">Madam Rosmerta</a> – Proprietor of <a class=\"mw-redirect\" href=\"/wiki/The_Three_Broomsticks\" title=\"The Three Broomsticks\">The Three Broomsticks</a> inn in <a class=\"mw-redirect\" href=\"/wiki/Hogsmeade\" title=\"Hogsmeade\">Hogsmeade</a> village.</li>\n",
            "<li><a href=\"/wiki/Magical_creatures_in_Harry_Potter#Centaurs\" title=\"Magical creatures in Harry Potter\">Ronan</a> – A centaur living in the Forbidden Forest.</li>\n",
            "<li><a class=\"mw-redirect\" href=\"/wiki/Scabbers\" title=\"Scabbers\">Scabbers</a> – Ron Weasley's pet rat in the first three stories who is revealed to be a wizard in animal form: <a class=\"mw-redirect\" href=\"/wiki/Peter_Pettigrew_(character)\" title=\"Peter Pettigrew (character)\">Peter Pettigrew</a>.</li>\n",
            "<li>Scabior – Snatcher who captures Harry, Ron and Hermione in <i>Deathly Hallows</i>.</li>\n",
            "<li>Travers – Wizard and <a href=\"/wiki/Death_Eater\" title=\"Death Eater\">Death Eater</a> who escapes from <a class=\"mw-redirect\" href=\"/wiki/Azkaban\" title=\"Azkaban\">Azkaban</a> after <a href=\"/wiki/Lord_Voldemort\" title=\"Lord Voldemort\">Lord Voldemort</a>'s return.</li>\n",
            "<li>Trevor – Neville Longbottom's perpetually-misplaced pet toad.</li>\n",
            "<li>Winky – A female house-elf who belonged to <a class=\"mw-redirect\" href=\"/wiki/Barty_Crouch_Sr\" title=\"Barty Crouch Sr\">Barty Crouch Sr</a> until he sacked her, then worked in the Hogwarts kitchen.</li>\n"
          ],
          "name": "stdout"
        }
      ]
    },
    {
      "cell_type": "code",
      "metadata": {
        "colab": {
          "base_uri": "https://localhost:8080/"
        },
        "id": "3NYIio9Wj3K4",
        "outputId": "c3430a7e-fa25-4dd2-d61c-a5696ff78c67"
      },
      "source": [
        "len(list_of_names)"
      ],
      "execution_count": null,
      "outputs": [
        {
          "output_type": "execute_result",
          "data": {
            "text/plain": [
              "36"
            ]
          },
          "metadata": {
            "tags": []
          },
          "execution_count": 62
        }
      ]
    },
    {
      "cell_type": "code",
      "metadata": {
        "id": "-Gbh4GozkTox"
      },
      "source": [
        ""
      ],
      "execution_count": null,
      "outputs": []
    }
  ]
}